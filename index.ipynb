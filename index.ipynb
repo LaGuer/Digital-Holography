{
 "cells": [
  {
   "cell_type": "markdown",
   "metadata": {},
   "source": [
    "# Digital holography in microscopy\n",
    "\n",
    "The following pages outline an introduction to Digital holography in microscopy. In particular, it should form the basis for a self-paced course."
   ]
  },
  {
   "cell_type": "markdown",
   "metadata": {},
   "source": [
    "\n",
    "The essential sections of the course are on\n",
    "\n",
    "* [Convolution reconstruction](Convolution_reconstruction.ipynb)\n",
    "* [Fresnel reconstruction](Fresnel_reconstruction.ipynb)\n",
    "\n",
    "The following topics are not part of this repo but are available through their respective links\n",
    "\n",
    "* [medical Holography](https://github.com/LaGuer/medicalHolography)\n",
    "* [holographic microscopy videos using Lorenz-Mie Theory](https://github.com/LaGuer/mie_video)\n",
    "\n",
    "Finally, there is one \"appendix\" on\n",
    "\n",
    "* [testing](09-exceptions-testing.html)\n"
   ]
  },
  {
   "cell_type": "markdown",
   "metadata": {},
   "source": [
    "The [PDF notes](https://github.com/LaGuer/digital-holographic-microscopy/tree/master/pdf) also contain a section introducing $\\LaTeX$."
   ]
  },
  {
   "cell_type": "markdown",
   "metadata": {},
   "source": [
    "This material is [hosted on GitHub](https://github.com/LaGuer/digital-holographic-microscopy)."
   ]
  },
  {
   "cell_type": "markdown",
   "metadata": {},
   "source": [
    "There are [solutions to all the exercises not yet available](ExercisesSolutions.ipynb)."
   ]
  }
 ],
 "metadata": {
  "kernelspec": {
   "display_name": "Python 3",
   "language": "python",
   "name": "python3"
  },
  "language_info": {
   "codemirror_mode": {
    "name": "ipython",
    "version": 3
   },
   "file_extension": ".py",
   "mimetype": "text/x-python",
   "name": "python",
   "nbconvert_exporter": "python",
   "pygments_lexer": "ipython3",
   "version": "3.4.4"
  },
  "nbconvert": {
   "title": "Digital Holography"
  }
 },
 "nbformat": 4,
 "nbformat_minor": 0
 }
